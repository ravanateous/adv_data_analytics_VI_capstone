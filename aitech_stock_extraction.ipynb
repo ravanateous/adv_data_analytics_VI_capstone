{
 "cells": [
  {
   "cell_type": "code",
   "execution_count": 1,
   "metadata": {},
   "outputs": [],
   "source": [
    "import yfinance as yf\n",
    "import pandas as pd\n",
    "from datetime import datetime, timedelta"
   ]
  },
  {
   "cell_type": "code",
   "execution_count": 2,
   "metadata": {},
   "outputs": [],
   "source": [
    "# Getting stocks and ETFs based on this article \"https://www.nasdaq.com/articles/generative-ai-is-as-transformative-as-the-telephone-bank-of-america-says:-10-stock-etf\"\n",
    "tickers = ['GOOGL','MSFT','AMZN','META','CRM','NVDA','SMCI','INTC','AMD','AAPL']"
   ]
  },
  {
   "cell_type": "markdown",
   "metadata": {},
   "source": [
    "## Company Information\n",
    "\n",
    "### Create DataFrame to store Sector, Price to Earnings Ratio, Company Beta"
   ]
  },
  {
   "cell_type": "code",
   "execution_count": 7,
   "metadata": {},
   "outputs": [
    {
     "name": "stderr",
     "output_type": "stream",
     "text": [
      "C:\\Users\\Andrew\\AppData\\Local\\Temp\\ipykernel_2376\\2101541996.py:13: FutureWarning: The behavior of DataFrame concatenation with empty or all-NA entries is deprecated. In a future version, this will no longer exclude empty or all-NA columns when determining the result dtypes. To retain the old behavior, exclude the relevant entries before the concat operation.\n",
      "  stock_data = pd.concat([stock_data, pd.DataFrame({\n"
     ]
    },
    {
     "name": "stdout",
     "output_type": "stream",
     "text": [
      "GOOGL - Sector: Communication Services, TrailingPE: 26.2318, Beta: 1.035\n",
      "MSFT - Sector: Technology, TrailingPE: 35.97963, Beta: 0.897\n",
      "AMZN - Sector: Consumer Cyclical, TrailingPE: 76.90053, Beta: 1.17\n",
      "META - Sector: Communication Services, TrailingPE: 28.825243, Beta: 1.197\n",
      "CRM - Sector: Technology, TrailingPE: 94.26136, Beta: 1.24\n",
      "NVDA - Sector: Technology, TrailingPE: 61.310528, Beta: 1.691\n",
      "SMCI - Sector: Technology, TrailingPE: 23.630074, Beta: 1.149\n",
      "INTC - Sector: Technology, TrailingPE: N/A, Beta: 0.95\n",
      "AMD - Sector: Technology, TrailingPE: 1069.75, Beta: 1.674\n",
      "AAPL - Sector: Technology, TrailingPE: 31.640066, Beta: 1.308\n"
     ]
    }
   ],
   "source": [
    "# Create an empty DataFrame to store the data\n",
    "stock_data = pd.DataFrame(columns=['Ticker','CompanyName' ,'Sector', 'TrailingPE', 'Beta'])\n",
    "\n",
    "for stock_ticker in tickers:\n",
    "    stock_info = yf.Ticker(stock_ticker).info\n",
    "    \n",
    "    # Extract information\n",
    "    sector = stock_info.get('sector', 'N/A')\n",
    "    trailingPE = stock_info.get('trailingPE', 'N/A')\n",
    "    beta = stock_info.get('beta', 'N/A')\n",
    "    \n",
    "    # Append data to the DataFrame\n",
    "    stock_data = pd.concat([stock_data, pd.DataFrame({\n",
    "        'Ticker': [stock_ticker],\n",
    "        'CompanyName': [longName],\n",
    "        'Sector': [sector],\n",
    "        'TrailingPE': [trailingPE],\n",
    "        'Beta': [beta]\n",
    "    })], ignore_index=True)\n",
    "\n",
    "    # Display information (optional)\n",
    "    print(f\"{stock_ticker} - Sector: {sector}, TrailingPE: {trailingPE}, Beta: {beta}\")\n",
    "\n",
    "# Save DataFrame to CSV\n",
    "stock_data.to_csv('stock_data.csv', index=False)"
   ]
  },
  {
   "cell_type": "markdown",
   "metadata": {},
   "source": [
    "## Closing Price\n",
    "\n",
    "### Create DataFrame to store closing prices"
   ]
  },
  {
   "cell_type": "code",
   "execution_count": 8,
   "metadata": {},
   "outputs": [
    {
     "name": "stdout",
     "output_type": "stream",
     "text": [
      "[*********************100%%**********************]  1 of 1 completed\n",
      "[*********************100%%**********************]  1 of 1 completed\n",
      "[*********************100%%**********************]  1 of 1 completed\n",
      "[*********************100%%**********************]  1 of 1 completed\n",
      "[*********************100%%**********************]  1 of 1 completed\n",
      "[*********************100%%**********************]  1 of 1 completed\n",
      "[*********************100%%**********************]  1 of 1 completed\n",
      "[*********************100%%**********************]  1 of 1 completed\n",
      "[*********************100%%**********************]  1 of 1 completed\n",
      "[*********************100%%**********************]  1 of 1 completed\n"
     ]
    }
   ],
   "source": [
    "for ticker in tickers:\n",
    "    data = yf.download(ticker, group_by=\"Ticker\")\n",
    "    data['ticker'] = ticker  # add this column because the dataframe doesn't contain a column with the ticker\n",
    "    data.to_csv(f'ticker_{ticker}.csv')  # ticker_AAPL.csv for example\n"
   ]
  }
 ],
 "metadata": {
  "kernelspec": {
   "display_name": "Python 3",
   "language": "python",
   "name": "python3"
  },
  "language_info": {
   "codemirror_mode": {
    "name": "ipython",
    "version": 3
   },
   "file_extension": ".py",
   "mimetype": "text/x-python",
   "name": "python",
   "nbconvert_exporter": "python",
   "pygments_lexer": "ipython3",
   "version": "3.12.0"
  }
 },
 "nbformat": 4,
 "nbformat_minor": 2
}
